{
 "cells": [
  {
   "cell_type": "markdown",
   "metadata": {
    "cell_id": "00000-49745899-b5b2-4ed0-9642-1b2b02525b37",
    "tags": []
   },
   "source": [
    "4G5 Coursework Computer Project: rubber elasticity\n",
    "====\n",
    "\n",
    "<!--<img src=\"./isoprene.png\" height=200>-->\n",
    "<img src=\"./polyisoprene.png\" height=200>\n",
    "\n",
    "In this project, you are going to investigate the elastic properties of rubber. There are many different types of rubber, both synthetic and\n",
    "natural, the latter mostly derived from the fluids of the [rubber tree](https://en.wikipedia.org/wiki/Hevea_brasiliensis). All of them have a\n",
    "common structure: extremely long chains of flexible polymers. Different materials vary in the composition of the polymers, whether and how\n",
    "cross-linked they are. In this project, we are going to consider the polyisoprene molecule, which is the major constitutent of \n",
    "natural rubber. Isoprene is a simple hydrocarbon, a naturally very abundant molecule, even humans produce some! To keep things simple, you\n",
    "will study only a single polymer chain, and to keep the computational effort low, only a short one. This is already sufficient to display\n",
    "the main phenomenology of elasticity. "
   ]
  },
  {
   "cell_type": "markdown",
   "metadata": {
    "cell_id": "00001-eca5fc33-259a-4c6d-8fdc-d4edf3455157",
    "tags": []
   },
   "source": [
    "The main objective of the project is to demonstrate the linear restoring force as a function of displacement for the polyisoprene molecule. \n",
    "This will be accomplished by _constrained_ molecular dynamics at constant temperature, in which the two ends of the molecule will be kept at a \n",
    "given distance apart, and the molecular motion simulated as it explores the allowable conformations. After sufficient \n",
    "data is accumulated, the average force on the end points is recorded, and a new, larger distance is set, repeating the previous procedure. You will\n",
    "need to use error analysis to determine how long a simulation to do at a fixed displacement before moving on to the next one. \n",
    "\n",
    "__Your report__ should contain the measured average restoring force as a function of displacement, with appropriate error bars, and brief commentary on what\n",
    "you have found. Also consider the average internal energy of molecule (also as a function of displacement), and comment on its relationship to the \n",
    "restoring force. \n",
    "\n",
    "Notes: \n",
    "\n",
    "- If you find that you are spending more than 6 hours on the coursework, seek help. This does _not_ include the runtime of the simulation that you use to gather \n",
    "your final data (after you've done shorter exploratory work), it is recommended that you run it overnight. Always make an estimate on how\n",
    "long a given run will take, never start a simulation for which you have no idea when it will finish!\n",
    "- Don't forget that the coursework is marked anonymously, so make sure that you include a [coursework cover sheet](http://teaching.eng.cam.ac.uk/node/4171) as the\n",
    "first page of your report that you upload to Moodle. \n",
    "- The marking will be focused on your understanding of the modelling and data analysis, rather than on programming. If you are stuck, seek help.\n"
   ]
  },
  {
   "cell_type": "markdown",
   "metadata": {
    "cell_id": "00002-d7f84797-b72a-428b-b602-4157e17f7297",
    "tags": []
   },
   "source": [
    "Preliminaries\n",
    "----"
   ]
  },
  {
   "cell_type": "code",
   "execution_count": 4,
   "metadata": {},
   "outputs": [
    {
     "name": "stdout",
     "output_type": "stream",
     "text": [
      "Collecting torchani\n",
      "  Downloading torchani-2.2.4-py3-none-any.whl.metadata (6.0 kB)\n",
      "Requirement already satisfied: torch in /Users/mac/anaconda3/lib/python3.11/site-packages (from torchani) (2.1.2)\n",
      "Collecting lark-parser (from torchani)\n",
      "  Downloading lark_parser-0.12.0-py2.py3-none-any.whl.metadata (1.7 kB)\n",
      "Requirement already satisfied: requests in /Users/mac/anaconda3/lib/python3.11/site-packages (from torchani) (2.31.0)\n",
      "Requirement already satisfied: importlib-metadata in /Users/mac/anaconda3/lib/python3.11/site-packages (from torchani) (6.0.0)\n",
      "Requirement already satisfied: zipp>=0.5 in /Users/mac/anaconda3/lib/python3.11/site-packages (from importlib-metadata->torchani) (3.11.0)\n",
      "Requirement already satisfied: charset-normalizer<4,>=2 in /Users/mac/anaconda3/lib/python3.11/site-packages (from requests->torchani) (2.0.4)\n",
      "Requirement already satisfied: idna<4,>=2.5 in /Users/mac/anaconda3/lib/python3.11/site-packages (from requests->torchani) (3.4)\n",
      "Requirement already satisfied: urllib3<3,>=1.21.1 in /Users/mac/anaconda3/lib/python3.11/site-packages (from requests->torchani) (1.26.16)\n",
      "Requirement already satisfied: certifi>=2017.4.17 in /Users/mac/anaconda3/lib/python3.11/site-packages (from requests->torchani) (2023.7.22)\n",
      "Requirement already satisfied: filelock in /Users/mac/anaconda3/lib/python3.11/site-packages (from torch->torchani) (3.9.0)\n",
      "Requirement already satisfied: typing-extensions in /Users/mac/anaconda3/lib/python3.11/site-packages (from torch->torchani) (4.12.2)\n",
      "Requirement already satisfied: sympy in /Users/mac/anaconda3/lib/python3.11/site-packages (from torch->torchani) (1.11.1)\n",
      "Requirement already satisfied: networkx in /Users/mac/anaconda3/lib/python3.11/site-packages (from torch->torchani) (3.1)\n",
      "Requirement already satisfied: jinja2 in /Users/mac/anaconda3/lib/python3.11/site-packages (from torch->torchani) (3.1.2)\n",
      "Requirement already satisfied: fsspec in /Users/mac/anaconda3/lib/python3.11/site-packages (from torch->torchani) (2024.12.0)\n",
      "Requirement already satisfied: MarkupSafe>=2.0 in /Users/mac/anaconda3/lib/python3.11/site-packages (from jinja2->torch->torchani) (2.1.1)\n",
      "Requirement already satisfied: mpmath>=0.19 in /Users/mac/anaconda3/lib/python3.11/site-packages (from sympy->torch->torchani) (1.3.0)\n",
      "Downloading torchani-2.2.4-py3-none-any.whl (10.9 MB)\n",
      "\u001b[2K   \u001b[90m━━━━━━━━━━━━━━━━━━━━━━━━━━━━━━━━━━━━━━━━\u001b[0m \u001b[32m10.9/10.9 MB\u001b[0m \u001b[31m2.9 MB/s\u001b[0m eta \u001b[36m0:00:00\u001b[0m00:01\u001b[0m00:01\u001b[0m\n",
      "\u001b[?25hDownloading lark_parser-0.12.0-py2.py3-none-any.whl (103 kB)\n",
      "Installing collected packages: lark-parser, torchani\n",
      "Successfully installed lark-parser-0.12.0 torchani-2.2.4\n"
     ]
    }
   ],
   "source": [
    "# Pre - Preliminaries\n",
    "#!pip install numpy # who hasn't got numpy installed?\n",
    "#!pip install ase\n",
    "#!pip install torchani"
   ]
  },
  {
   "cell_type": "code",
   "execution_count": 1,
   "metadata": {
    "cell_id": "00001-71bd402d-8df0-4a2c-b6b6-c84620dfd94d",
    "execution_millis": 247,
    "execution_start": 1603655053441,
    "output_cleared": false,
    "source_hash": "c2406185"
   },
   "outputs": [],
   "source": [
    "#\n",
    "# import basic atomistic simulation modules\n",
    "#\n",
    "import numpy as np\n",
    "import ase\n",
    "from ase.build import bulk\n",
    "from ase.data.pubchem import pubchem_atoms_search\n",
    "from ase.visualize import view"
   ]
  },
  {
   "cell_type": "code",
   "execution_count": 14,
   "metadata": {
    "cell_id": "00003-8af526d3-ee68-41c4-afd3-3445863f2c6c",
    "execution_millis": 2061,
    "execution_start": 1603636142555,
    "output_cleared": true,
    "source_hash": null,
    "tags": []
   },
   "outputs": [
    {
     "data": {
      "text/html": [
       "<html>\n",
       "    <head>\n",
       "        <title>ASE atomic visualization</title>\n",
       "        <link rel=\"stylesheet\" type=\"text/css\"             href=\"https://www.x3dom.org/release/x3dom.css\"></link>\n",
       "        <script type=\"text/javascript\"             src=\"https://www.x3dom.org/release/x3dom.js\"></script>\n",
       "    </head>\n",
       "    <body>\n",
       "        <X3D width=\"400px\"; height=\"300px\";>\n",
       "\n",
       "<!--Inserting Generated X3D Scene-->\n",
       "<scene>\n",
       "  <viewpoint position=\"0 0 10.2616\">\n",
       "    <group/>\n",
       "  </viewpoint>\n",
       "  <transform translation=\"-0.0 -0.0 -0.0\">\n",
       "    <group>\n",
       "      <group>\n",
       "        <transform translation=\"0 0 0\">\n",
       "          <shape>\n",
       "            <appearance>\n",
       "              <material diffuseColor=\"0 0 0\"/>\n",
       "            </appearance>\n",
       "            <lineset vertexCount=\"5\">\n",
       "              <coordinate point=\"0 0 0 0.0 0.0 0.0 0.0 0.0 0.0 0.0 0.0 0.0 0 0 0\"/>\n",
       "            </lineset>\n",
       "          </shape>\n",
       "        </transform>\n",
       "        <transform translation=\"0.0 0.0 0.0\">\n",
       "          <shape>\n",
       "            <appearance>\n",
       "              <material diffuseColor=\"0 0 0\"/>\n",
       "            </appearance>\n",
       "            <lineset vertexCount=\"5\">\n",
       "              <coordinate point=\"0 0 0 0.0 0.0 0.0 0.0 0.0 0.0 0.0 0.0 0.0 0 0 0\"/>\n",
       "            </lineset>\n",
       "          </shape>\n",
       "        </transform>\n",
       "        <transform translation=\"0 0 0\">\n",
       "          <shape>\n",
       "            <appearance>\n",
       "              <material diffuseColor=\"0 0 0\"/>\n",
       "            </appearance>\n",
       "            <lineset vertexCount=\"5\">\n",
       "              <coordinate point=\"0 0 0 0.0 0.0 0.0 0.0 0.0 0.0 0.0 0.0 0.0 0 0 0\"/>\n",
       "            </lineset>\n",
       "          </shape>\n",
       "        </transform>\n",
       "        <transform translation=\"0.0 0.0 0.0\">\n",
       "          <shape>\n",
       "            <appearance>\n",
       "              <material diffuseColor=\"0 0 0\"/>\n",
       "            </appearance>\n",
       "            <lineset vertexCount=\"5\">\n",
       "              <coordinate point=\"0 0 0 0.0 0.0 0.0 0.0 0.0 0.0 0.0 0.0 0.0 0 0 0\"/>\n",
       "            </lineset>\n",
       "          </shape>\n",
       "        </transform>\n",
       "      </group>\n",
       "      <group>\n",
       "        <transform translation=\"0.4675 0.0427 -0.0001\">\n",
       "          <shape>\n",
       "            <appearance>\n",
       "              <material diffuseColor=\"0.565 0.565 0.565\"/>\n",
       "            </appearance>\n",
       "            <sphere radius=\"0.76\"/>\n",
       "          </shape>\n",
       "        </transform>\n",
       "        <transform translation=\"-0.7328 0.6525 0.0001\">\n",
       "          <shape>\n",
       "            <appearance>\n",
       "              <material diffuseColor=\"0.565 0.565 0.565\"/>\n",
       "            </appearance>\n",
       "            <sphere radius=\"0.76\"/>\n",
       "          </shape>\n",
       "        </transform>\n",
       "        <transform translation=\"1.7995 0.7381 0.0\">\n",
       "          <shape>\n",
       "            <appearance>\n",
       "              <material diffuseColor=\"0.565 0.565 0.565\"/>\n",
       "            </appearance>\n",
       "            <sphere radius=\"0.76\"/>\n",
       "          </shape>\n",
       "        </transform>\n",
       "        <transform translation=\"0.5561 -1.461 0.0\">\n",
       "          <shape>\n",
       "            <appearance>\n",
       "              <material diffuseColor=\"0.565 0.565 0.565\"/>\n",
       "            </appearance>\n",
       "            <sphere radius=\"0.76\"/>\n",
       "          </shape>\n",
       "        </transform>\n",
       "        <transform translation=\"-2.0903 0.0276 0.0\">\n",
       "          <shape>\n",
       "            <appearance>\n",
       "              <material diffuseColor=\"0.565 0.565 0.565\"/>\n",
       "            </appearance>\n",
       "            <sphere radius=\"0.76\"/>\n",
       "          </shape>\n",
       "        </transform>\n",
       "        <transform translation=\"-0.7403 1.7414 -0.0153\">\n",
       "          <shape>\n",
       "            <appearance>\n",
       "              <material diffuseColor=\"1.0 1.0 1.0\"/>\n",
       "            </appearance>\n",
       "            <sphere radius=\"0.31\"/>\n",
       "          </shape>\n",
       "        </transform>\n",
       "        <transform translation=\"1.6842 1.8268 0.0214\">\n",
       "          <shape>\n",
       "            <appearance>\n",
       "              <material diffuseColor=\"1.0 1.0 1.0\"/>\n",
       "            </appearance>\n",
       "            <sphere radius=\"0.31\"/>\n",
       "          </shape>\n",
       "        </transform>\n",
       "        <transform translation=\"2.3821 0.4461 0.8796\">\n",
       "          <shape>\n",
       "            <appearance>\n",
       "              <material diffuseColor=\"1.0 1.0 1.0\"/>\n",
       "            </appearance>\n",
       "            <sphere radius=\"0.31\"/>\n",
       "          </shape>\n",
       "        </transform>\n",
       "        <transform translation=\"2.3673 0.4795 -0.8995\">\n",
       "          <shape>\n",
       "            <appearance>\n",
       "              <material diffuseColor=\"1.0 1.0 1.0\"/>\n",
       "            </appearance>\n",
       "            <sphere radius=\"0.31\"/>\n",
       "          </shape>\n",
       "        </transform>\n",
       "        <transform translation=\"1.3203 -1.7897 -0.7138\">\n",
       "          <shape>\n",
       "            <appearance>\n",
       "              <material diffuseColor=\"1.0 1.0 1.0\"/>\n",
       "            </appearance>\n",
       "            <sphere radius=\"0.31\"/>\n",
       "          </shape>\n",
       "        </transform>\n",
       "        <transform translation=\"0.8447 -1.8196 0.9934\">\n",
       "          <shape>\n",
       "            <appearance>\n",
       "              <material diffuseColor=\"1.0 1.0 1.0\"/>\n",
       "            </appearance>\n",
       "            <sphere radius=\"0.31\"/>\n",
       "          </shape>\n",
       "        </transform>\n",
       "        <transform translation=\"-0.3662 -1.9654 -0.2959\">\n",
       "          <shape>\n",
       "            <appearance>\n",
       "              <material diffuseColor=\"1.0 1.0 1.0\"/>\n",
       "            </appearance>\n",
       "            <sphere radius=\"0.31\"/>\n",
       "          </shape>\n",
       "        </transform>\n",
       "        <transform translation=\"-2.1016 -1.0023 0.3625\">\n",
       "          <shape>\n",
       "            <appearance>\n",
       "              <material diffuseColor=\"1.0 1.0 1.0\"/>\n",
       "            </appearance>\n",
       "            <sphere radius=\"0.31\"/>\n",
       "          </shape>\n",
       "        </transform>\n",
       "        <transform translation=\"-2.7487 0.5987 0.6635\">\n",
       "          <shape>\n",
       "            <appearance>\n",
       "              <material diffuseColor=\"1.0 1.0 1.0\"/>\n",
       "            </appearance>\n",
       "            <sphere radius=\"0.31\"/>\n",
       "          </shape>\n",
       "        </transform>\n",
       "        <transform translation=\"-2.5184 0.058 -1.0063\">\n",
       "          <shape>\n",
       "            <appearance>\n",
       "              <material diffuseColor=\"1.0 1.0 1.0\"/>\n",
       "            </appearance>\n",
       "            <sphere radius=\"0.31\"/>\n",
       "          </shape>\n",
       "        </transform>\n",
       "      </group>\n",
       "    </group>\n",
       "  </transform>\n",
       "</scene>\n",
       "<!--End of Inserted Scene-->\n",
       "\n",
       "        </X3D>\n",
       "    </body>\n",
       "</html>\n",
       "\n"
      ],
      "text/plain": [
       "<IPython.core.display.HTML object>"
      ]
     },
     "execution_count": 14,
     "metadata": {},
     "output_type": "execute_result"
    }
   ],
   "source": [
    "# get the structure of isoprene\n",
    "isoprene = pubchem_atoms_search(smiles=\"CC=C(C)C\")\n",
    "view(isoprene, viewer='x3d')"
   ]
  },
  {
   "cell_type": "code",
   "execution_count": 5,
   "metadata": {
    "cell_id": "00006-594e2586-706d-407b-af06-cb9646fdf307",
    "execution_millis": 1094,
    "execution_start": 1603636147691,
    "output_cleared": false,
    "source_hash": "6ebeddd9"
   },
   "outputs": [
    {
     "name": "stderr",
     "output_type": "stream",
     "text": [
      "/Users/mac/anaconda3/lib/python3.11/site-packages/torchani/aev.py:16: UserWarning: cuaev not installed\n",
      "  warnings.warn(\"cuaev not installed\")\n"
     ]
    }
   ],
   "source": [
    "# import an energy model \n",
    "import sys\n",
    "sys.path.insert(0, \"ANI\")\n",
    "import ani"
   ]
  },
  {
   "cell_type": "code",
   "execution_count": 16,
   "metadata": {
    "cell_id": "00007-5d03485b-464f-4f34-bb99-ebdf2fe56b95",
    "execution_millis": 1,
    "execution_start": 1603636152494,
    "output_cleared": true,
    "source_hash": null
   },
   "outputs": [
    {
     "data": {
      "text/plain": [
       "-5346.541799350911"
      ]
     },
     "execution_count": 16,
     "metadata": {},
     "output_type": "execute_result"
    }
   ],
   "source": [
    "isoprene.calc = ani.calculator\n",
    "isoprene.get_potential_energy()"
   ]
  },
  {
   "cell_type": "code",
   "execution_count": 17,
   "metadata": {
    "cell_id": "00009-65bfce8c-3d27-4000-b352-0a2fc1debf17",
    "execution_millis": 111,
    "execution_start": 1603636154413,
    "output_cleared": false,
    "source_hash": "292aee41"
   },
   "outputs": [],
   "source": [
    "#\n",
    "# now import the modules we need to run molecular dynamics\n",
    "#\n",
    "from ase.md.velocitydistribution import MaxwellBoltzmannDistribution\n",
    "from ase.md.verlet import VelocityVerlet\n",
    "from ase import units\n",
    "from ase.md.langevin import Langevin\n",
    "from ase.io.trajectory import Trajectory\n"
   ]
  },
  {
   "cell_type": "code",
   "execution_count": 18,
   "metadata": {
    "cell_id": "00009-0203f748-4825-4065-8cb6-0aa2dac1916e",
    "execution_millis": 6272,
    "execution_start": 1603637398452,
    "output_cleared": true,
    "source_hash": null,
    "tags": []
   },
   "outputs": [
    {
     "name": "stdout",
     "output_type": "stream",
     "text": [
      "Time: 0.000 fs  |  Potential Energy: -5346.542 eV  |  Kinetic Energy: 380.379 K\n",
      "Time: 0.500 fs  |  Potential Energy: -5346.538 eV  |  Kinetic Energy: 386.110 K\n",
      "Time: 1.000 fs  |  Potential Energy: -5346.516 eV  |  Kinetic Energy: 372.797 K\n",
      "Time: 1.500 fs  |  Potential Energy: -5346.480 eV  |  Kinetic Energy: 355.667 K\n",
      "Time: 2.000 fs  |  Potential Energy: -5346.435 eV  |  Kinetic Energy: 334.061 K\n",
      "Time: 2.500 fs  |  Potential Energy: -5346.389 eV  |  Kinetic Energy: 309.281 K\n",
      "Time: 3.000 fs  |  Potential Energy: -5346.345 eV  |  Kinetic Energy: 284.111 K\n",
      "Time: 3.500 fs  |  Potential Energy: -5346.304 eV  |  Kinetic Energy: 263.251 K\n",
      "Time: 4.000 fs  |  Potential Energy: -5346.265 eV  |  Kinetic Energy: 247.802 K\n",
      "Time: 4.500 fs  |  Potential Energy: -5346.230 eV  |  Kinetic Energy: 226.508 K\n",
      "Time: 5.000 fs  |  Potential Energy: -5346.196 eV  |  Kinetic Energy: 209.574 K\n",
      "Time: 5.500 fs  |  Potential Energy: -5346.164 eV  |  Kinetic Energy: 191.623 K\n",
      "Time: 6.000 fs  |  Potential Energy: -5346.136 eV  |  Kinetic Energy: 175.853 K\n",
      "Time: 6.500 fs  |  Potential Energy: -5346.113 eV  |  Kinetic Energy: 162.799 K\n",
      "Time: 7.000 fs  |  Potential Energy: -5346.099 eV  |  Kinetic Energy: 154.665 K\n",
      "Time: 7.500 fs  |  Potential Energy: -5346.097 eV  |  Kinetic Energy: 154.475 K\n",
      "Time: 8.000 fs  |  Potential Energy: -5346.110 eV  |  Kinetic Energy: 158.126 K\n",
      "Time: 8.500 fs  |  Potential Energy: -5346.139 eV  |  Kinetic Energy: 173.713 K\n",
      "Time: 9.000 fs  |  Potential Energy: -5346.180 eV  |  Kinetic Energy: 194.363 K\n",
      "Time: 9.500 fs  |  Potential Energy: -5346.225 eV  |  Kinetic Energy: 215.750 K\n",
      "Time: 10.000 fs  |  Potential Energy: -5346.269 eV  |  Kinetic Energy: 237.209 K\n",
      "Time: 10.500 fs  |  Potential Energy: -5346.304 eV  |  Kinetic Energy: 258.181 K\n",
      "Time: 11.000 fs  |  Potential Energy: -5346.325 eV  |  Kinetic Energy: 266.599 K\n",
      "Time: 11.500 fs  |  Potential Energy: -5346.331 eV  |  Kinetic Energy: 267.648 K\n",
      "Time: 12.000 fs  |  Potential Energy: -5346.324 eV  |  Kinetic Energy: 259.868 K\n",
      "Time: 12.500 fs  |  Potential Energy: -5346.309 eV  |  Kinetic Energy: 251.447 K\n",
      "Time: 13.000 fs  |  Potential Energy: -5346.290 eV  |  Kinetic Energy: 244.838 K\n",
      "Time: 13.500 fs  |  Potential Energy: -5346.272 eV  |  Kinetic Energy: 238.474 K\n",
      "Time: 14.000 fs  |  Potential Energy: -5346.258 eV  |  Kinetic Energy: 230.072 K\n",
      "Time: 14.500 fs  |  Potential Energy: -5346.248 eV  |  Kinetic Energy: 223.696 K\n",
      "Time: 15.000 fs  |  Potential Energy: -5346.240 eV  |  Kinetic Energy: 218.749 K\n",
      "Time: 15.500 fs  |  Potential Energy: -5346.235 eV  |  Kinetic Energy: 214.083 K\n",
      "Time: 16.000 fs  |  Potential Energy: -5346.228 eV  |  Kinetic Energy: 210.397 K\n",
      "Time: 16.500 fs  |  Potential Energy: -5346.221 eV  |  Kinetic Energy: 209.377 K\n",
      "Time: 17.000 fs  |  Potential Energy: -5346.215 eV  |  Kinetic Energy: 203.943 K\n",
      "Time: 17.500 fs  |  Potential Energy: -5346.211 eV  |  Kinetic Energy: 202.696 K\n",
      "Time: 18.000 fs  |  Potential Energy: -5346.211 eV  |  Kinetic Energy: 204.741 K\n",
      "Time: 18.500 fs  |  Potential Energy: -5346.218 eV  |  Kinetic Energy: 211.567 K\n",
      "Time: 19.000 fs  |  Potential Energy: -5346.233 eV  |  Kinetic Energy: 223.861 K\n",
      "Time: 19.500 fs  |  Potential Energy: -5346.254 eV  |  Kinetic Energy: 230.579 K\n",
      "Time: 20.000 fs  |  Potential Energy: -5346.278 eV  |  Kinetic Energy: 241.252 K\n",
      "Time: 20.500 fs  |  Potential Energy: -5346.302 eV  |  Kinetic Energy: 251.245 K\n",
      "Time: 21.000 fs  |  Potential Energy: -5346.317 eV  |  Kinetic Energy: 258.348 K\n",
      "Time: 21.500 fs  |  Potential Energy: -5346.322 eV  |  Kinetic Energy: 259.242 K\n",
      "Time: 22.000 fs  |  Potential Energy: -5346.313 eV  |  Kinetic Energy: 250.721 K\n",
      "Time: 22.500 fs  |  Potential Energy: -5346.291 eV  |  Kinetic Energy: 239.382 K\n",
      "Time: 23.000 fs  |  Potential Energy: -5346.260 eV  |  Kinetic Energy: 227.594 K\n",
      "Time: 23.500 fs  |  Potential Energy: -5346.225 eV  |  Kinetic Energy: 211.826 K\n",
      "Time: 24.000 fs  |  Potential Energy: -5346.191 eV  |  Kinetic Energy: 188.917 K\n",
      "Time: 24.500 fs  |  Potential Energy: -5346.163 eV  |  Kinetic Energy: 174.157 K\n",
      "Time: 25.000 fs  |  Potential Energy: -5346.145 eV  |  Kinetic Energy: 165.354 K\n",
      "Time: 25.500 fs  |  Potential Energy: -5346.135 eV  |  Kinetic Energy: 158.775 K\n",
      "Time: 26.000 fs  |  Potential Energy: -5346.134 eV  |  Kinetic Energy: 161.349 K\n",
      "Time: 26.500 fs  |  Potential Energy: -5346.141 eV  |  Kinetic Energy: 162.499 K\n",
      "Time: 27.000 fs  |  Potential Energy: -5346.153 eV  |  Kinetic Energy: 171.606 K\n",
      "Time: 27.500 fs  |  Potential Energy: -5346.166 eV  |  Kinetic Energy: 177.882 K\n",
      "Time: 28.000 fs  |  Potential Energy: -5346.179 eV  |  Kinetic Energy: 183.526 K\n",
      "Time: 28.500 fs  |  Potential Energy: -5346.193 eV  |  Kinetic Energy: 191.022 K\n",
      "Time: 29.000 fs  |  Potential Energy: -5346.210 eV  |  Kinetic Energy: 199.929 K\n",
      "Time: 29.500 fs  |  Potential Energy: -5346.233 eV  |  Kinetic Energy: 210.073 K\n",
      "Time: 30.000 fs  |  Potential Energy: -5346.261 eV  |  Kinetic Energy: 223.872 K\n",
      "Time: 30.500 fs  |  Potential Energy: -5346.291 eV  |  Kinetic Energy: 241.530 K\n",
      "Time: 31.000 fs  |  Potential Energy: -5346.320 eV  |  Kinetic Energy: 255.482 K\n",
      "Time: 31.500 fs  |  Potential Energy: -5346.344 eV  |  Kinetic Energy: 267.629 K\n",
      "Time: 32.000 fs  |  Potential Energy: -5346.359 eV  |  Kinetic Energy: 274.845 K\n",
      "Time: 32.500 fs  |  Potential Energy: -5346.364 eV  |  Kinetic Energy: 282.770 K\n",
      "Time: 33.000 fs  |  Potential Energy: -5346.357 eV  |  Kinetic Energy: 276.312 K\n",
      "Time: 33.500 fs  |  Potential Energy: -5346.340 eV  |  Kinetic Energy: 269.460 K\n",
      "Time: 34.000 fs  |  Potential Energy: -5346.315 eV  |  Kinetic Energy: 263.137 K\n",
      "Time: 34.500 fs  |  Potential Energy: -5346.286 eV  |  Kinetic Energy: 253.205 K\n",
      "Time: 35.000 fs  |  Potential Energy: -5346.259 eV  |  Kinetic Energy: 238.274 K\n",
      "Time: 35.500 fs  |  Potential Energy: -5346.236 eV  |  Kinetic Energy: 228.608 K\n",
      "Time: 36.000 fs  |  Potential Energy: -5346.219 eV  |  Kinetic Energy: 221.564 K\n",
      "Time: 36.500 fs  |  Potential Energy: -5346.209 eV  |  Kinetic Energy: 214.270 K\n",
      "Time: 37.000 fs  |  Potential Energy: -5346.206 eV  |  Kinetic Energy: 214.746 K\n",
      "Time: 37.500 fs  |  Potential Energy: -5346.206 eV  |  Kinetic Energy: 215.381 K\n",
      "Time: 38.000 fs  |  Potential Energy: -5346.207 eV  |  Kinetic Energy: 213.059 K\n",
      "Time: 38.500 fs  |  Potential Energy: -5346.208 eV  |  Kinetic Energy: 217.818 K\n",
      "Time: 39.000 fs  |  Potential Energy: -5346.209 eV  |  Kinetic Energy: 219.013 K\n",
      "Time: 39.500 fs  |  Potential Energy: -5346.214 eV  |  Kinetic Energy: 224.703 K\n",
      "Time: 40.000 fs  |  Potential Energy: -5346.224 eV  |  Kinetic Energy: 233.623 K\n",
      "Time: 40.500 fs  |  Potential Energy: -5346.241 eV  |  Kinetic Energy: 237.880 K\n",
      "Time: 41.000 fs  |  Potential Energy: -5346.265 eV  |  Kinetic Energy: 251.716 K\n",
      "Time: 41.500 fs  |  Potential Energy: -5346.294 eV  |  Kinetic Energy: 266.928 K\n",
      "Time: 42.000 fs  |  Potential Energy: -5346.322 eV  |  Kinetic Energy: 284.636 K\n",
      "Time: 42.500 fs  |  Potential Energy: -5346.346 eV  |  Kinetic Energy: 296.959 K\n",
      "Time: 43.000 fs  |  Potential Energy: -5346.362 eV  |  Kinetic Energy: 304.975 K\n",
      "Time: 43.500 fs  |  Potential Energy: -5346.364 eV  |  Kinetic Energy: 312.161 K\n",
      "Time: 44.000 fs  |  Potential Energy: -5346.353 eV  |  Kinetic Energy: 305.904 K\n",
      "Time: 44.500 fs  |  Potential Energy: -5346.332 eV  |  Kinetic Energy: 297.895 K\n",
      "Time: 45.000 fs  |  Potential Energy: -5346.305 eV  |  Kinetic Energy: 283.127 K\n",
      "Time: 45.500 fs  |  Potential Energy: -5346.274 eV  |  Kinetic Energy: 267.596 K\n",
      "Time: 46.000 fs  |  Potential Energy: -5346.244 eV  |  Kinetic Energy: 250.912 K\n",
      "Time: 46.500 fs  |  Potential Energy: -5346.217 eV  |  Kinetic Energy: 238.451 K\n",
      "Time: 47.000 fs  |  Potential Energy: -5346.193 eV  |  Kinetic Energy: 222.032 K\n",
      "Time: 47.500 fs  |  Potential Energy: -5346.173 eV  |  Kinetic Energy: 212.452 K\n",
      "Time: 48.000 fs  |  Potential Energy: -5346.156 eV  |  Kinetic Energy: 205.316 K\n",
      "Time: 48.500 fs  |  Potential Energy: -5346.144 eV  |  Kinetic Energy: 198.686 K\n",
      "Time: 49.000 fs  |  Potential Energy: -5346.136 eV  |  Kinetic Energy: 190.321 K\n",
      "Time: 49.500 fs  |  Potential Energy: -5346.135 eV  |  Kinetic Energy: 190.374 K\n",
      "Time: 50.000 fs  |  Potential Energy: -5346.141 eV  |  Kinetic Energy: 197.181 K\n"
     ]
    }
   ],
   "source": [
    "# this initialises the velocities by drawing from the appropriate distribution at T=300K\n",
    "MaxwellBoltzmannDistribution(isoprene, temperature_K=300) \n",
    "\n",
    "# We now create a molecular dynamics object that can be used to run Langevin dynamics\n",
    "# the parameters after the structure are the time step, the temperature, and the friction constant (in units of picoseconds)\n",
    "dynamics = Langevin(isoprene, temperature_K=300, timestep=0.5*units.fs, friction=0.01) \n",
    "\n",
    "\n",
    "# While the dynamics is running, we want to collect some data! This is achieved by creating a function to the dynamics object\n",
    "# which gets called after some number of steps, and it can report to us what is happenning to the molecule, record its trajectory, etc. \n",
    "xyzfile = open('isoprene.xyz', 'w') # the file we are going to record the structures to, the visualiser application \"Ovito\" can read such XYZ files. \n",
    "def report():\n",
    "    print(\"Time: {:.3f} fs  |  Potential Energy: {:.3f} eV  |  Kinetic Energy: {:.3f} K\".format(dynamics.get_time()/units.fs, isoprene.get_potential_energy(),\n",
    "        isoprene.get_kinetic_energy()/(len(isoprene)*(3.0/2.0)*units.kB)))\n",
    "    ase.io.write(xyzfile, isoprene, format=\"extxyz\")\n",
    "\n",
    "# notice how we print the kinetic energy in units of Kelvin, but it is not the thermodynamic temperature (which is kept constant)\n",
    "\n",
    "dynamics.attach(report, interval=1) # the interval argument specifies how many steps of dynamics are run between each call to record the trajectory\n",
    "dynamics.run(100)\n",
    "xyzfile.close()\n",
    "del dynamics\n",
    "\n",
    "# After execution, you will see a new file called \"isoprene.xyz\". You can look at it, and see what it records. Download it, and view the molecular\n",
    "# motion using the \"Ovito\" application. "
   ]
  },
  {
   "cell_type": "code",
   "execution_count": 19,
   "metadata": {
    "cell_id": "00008-62175aa9-0868-452a-98f5-eb7070a4fdc4",
    "execution_millis": 8,
    "execution_start": 1603637880417,
    "output_cleared": false,
    "source_hash": "8eb14bd4",
    "tags": []
   },
   "outputs": [
    {
     "name": "stdout",
     "output_type": "stream",
     "text": [
      "relative displacement vector: [ 5.08768548  0.02916624 -0.60793227]\n",
      "distance:  5.123960953419026\n",
      "unit vector in the same direction: [ 0.99292042  0.00569213 -0.11864498]\n"
     ]
    }
   ],
   "source": [
    "# Ovito also helps you to select atoms by dragging the \"Particles/GLobal Attributes\" tab upwards a bit,\n",
    "# and selecting the little target crosshairs on the left, then clicking on individual atoms. The \"ParticleIndex\" variable tells you the order\n",
    "# of the atoms in the file and the ASE atoms object. \n",
    "\n",
    "# For example, particle indices 8 and 13 correspond to two H atoms on opposite ends of the isoprene molecule, and we can get their distance:\n",
    "dr = (isoprene.get_positions()[8,:]-isoprene.get_positions()[13,:])\n",
    "print(\"relative displacement vector:\", dr)\n",
    "r = np.linalg.norm(dr)\n",
    "print(\"distance: \", r)\n",
    "dru = dr/np.linalg.norm(dr)\n",
    "print(\"unit vector in the same direction:\", dru)"
   ]
  },
  {
   "cell_type": "markdown",
   "metadata": {
    "cell_id": "00009-821973e4-0b7d-454d-b2f9-33d469701acf",
    "tags": []
   },
   "source": [
    "Exercise 1 : dynamics and autocorrelation\n",
    "----\n",
    "\n",
    "Run molecular dynamics of isoprene, and record the distance between atoms 8 and 13 (two hydrogens) every 10 steps. Plot the time evolution\n",
    "of this distance, and calculate the autocorrelation function. Run the trajectory long enough that you sample the methyl groups rotating around\n",
    "the C-C bond. Repeat the exercise at higher temperature (e.g. 500 K), what happens to the autocorrelation function ? \n",
    "\n",
    "Note: you can calculate the autocorrelation yourself, or learn to use the `acf` function in  `statsmodels.tsa.stattools`"
   ]
  },
  {
   "cell_type": "markdown",
   "metadata": {
    "cell_id": "00011-364ba816-dc4b-427e-8023-3d231d84ad0a",
    "tags": []
   },
   "source": [
    "Polyisoprene\n",
    "---"
   ]
  },
  {
   "cell_type": "code",
   "execution_count": null,
   "metadata": {
    "cell_id": "00010-ebf90e82-14b4-4ec6-8790-a5d32ef7e7d1",
    "execution_millis": 2233,
    "execution_start": 1603638429937,
    "output_cleared": true,
    "source_hash": null,
    "tags": []
   },
   "outputs": [
    {
     "name": "stderr",
     "output_type": "stream",
     "text": [
      "/Users/mac/anaconda3/lib/python3.11/site-packages/ase/data/pubchem.py:80: UserWarning: The structure \"CC=C(C)CCC=C(C)CCC=C(C)CCC=C(C)CCC=C(C)CCC=C(C)C\" has more than one conformer in PubChem. By default, the first conformer is returned, please ensure you are using the structure you intend to or use the `ase.data.pubchem.pubchem_conformer_search` function\n",
      "  warnings.warn(\n"
     ]
    }
   ],
   "source": [
    "# we now create a polyisoprene molecule\n",
    "polyisoprene = pubchem_atoms_search(smiles=\"CC=C(C)CCC=C(C)CCC=C(C)CCC=C(C)CCC=C(C)CCC=C(C)C\")\n",
    "view(polyisoprene, viewer='x3d')\n",
    "\n",
    "polyisoprenexyzfile = open('polyisoprene.xyz', 'w') # the file we are going to record the structures to, the visualiser application \"Ovito\" can read such XYZ files. \n",
    "def report():\n",
    "    print(\"Time: {:.3f} fs  |  Potential Energy: {:.3f} eV  |  Kinetic Energy: {:.3f} K\".format(dynamics.get_time()/units.fs, polyisoprene.get_potential_energy(),\n",
    "        polyisoprene.get_kinetic_energy()/(len(polyisoprene)*(3.0/2.0)*units.kB)))\n",
    "    ase.io.write(polyisoprenexyzfile, polyisoprene, format=\"extxyz\")\n",
    "\n",
    "\n",
    "\n",
    "def get_distance(molecule, temperature_K, atom_indices, timestep, runtime, friction=0.01):\n",
    "    \n",
    "    i, j = atom_indices[0], atom_indices[1]\n",
    "    \n",
    "    molecule.calc = ani.calculator\n",
    "    \n",
    "    dr = (molecule.get_positions()[i,:]-molecule.get_positions()[j,:])\n",
    "    \n",
    "    MaxwellBoltzmannDistribution(molecule, temperature_K) \n",
    "    \n",
    "    dynamics = Langevin(molecule, temperature_K, timestep, friction)\n",
    "    \n",
    "    # Create file to store trajectory\n",
    "    xyzfile = open(f'{str(molecule)}_trajectory.xyz', 'w')\n",
    "    \n",
    "    # Store distances and times for analysis\n",
    "    distances = []\n",
    "    times = []\n",
    "    \n",
    "    def report():\n",
    "        # Record current time and distance\n",
    "        current_time = dynamics.get_time()/units.fs\n",
    "        current_dr = molecule.get_positions()[i,:] - molecule.get_positions()[j,:]\n",
    "        current_distance = np.linalg.norm(current_dr)\n",
    "        \n",
    "        # Store values\n",
    "        distances.append(current_distance)\n",
    "        times.append(current_time)\n",
    "        \n",
    "        # Print status and write structure\n",
    "        print(f\"Time: {current_time:.3f} fs  |  \"\n",
    "              f\"Potential Energy: {molecule.get_potential_energy():.3f} eV  |  \"\n",
    "              f\"Kinetic Energy: {molecule.get_kinetic_energy()/(len(molecule)*(3.0/2.0)*units.kB):.3f} K  |  \"\n",
    "              f\"Distance: {current_distance:.3f} Å\")\n",
    "        \n",
    "        ase.io.write(xyzfile, molecule, format=\"extxyz\")\n",
    "    \n",
    "    # Attach reporter function to dynamics\n",
    "    dynamics.attach(report, interval=1)\n",
    "    \n",
    "    # Run dynamics\n",
    "    dynamics.run(runtime)\n",
    "    \n",
    "    # Clean up\n",
    "    xyzfile.close()\n",
    "    del dynamics\n",
    "    \n",
    "    return np.array(times), np.array(distances)\n"
   ]
  },
  {
   "cell_type": "code",
   "execution_count": 1,
   "metadata": {},
   "outputs": [
    {
     "ename": "NameError",
     "evalue": "name 'get_distance' is not defined",
     "output_type": "error",
     "traceback": [
      "\u001b[0;31m---------------------------------------------------------------------------\u001b[0m",
      "\u001b[0;31mNameError\u001b[0m                                 Traceback (most recent call last)",
      "Cell \u001b[0;32mIn[1], line 2\u001b[0m\n\u001b[1;32m      1\u001b[0m \u001b[38;5;66;03m# Example usage\u001b[39;00m\n\u001b[0;32m----> 2\u001b[0m times, distances \u001b[38;5;241m=\u001b[39m get_distance(\n\u001b[1;32m      3\u001b[0m     molecule\u001b[38;5;241m=\u001b[39mpolyisoprene,\n\u001b[1;32m      4\u001b[0m     temperature_K\u001b[38;5;241m=\u001b[39m\u001b[38;5;241m300\u001b[39m,\n\u001b[1;32m      5\u001b[0m     atom_indices\u001b[38;5;241m=\u001b[39m[\u001b[38;5;241m8\u001b[39m, \u001b[38;5;241m13\u001b[39m],  \u001b[38;5;66;03m# The atoms you want to track\u001b[39;00m\n\u001b[1;32m      6\u001b[0m     timestep\u001b[38;5;241m=\u001b[39m\u001b[38;5;241m0.1\u001b[39m\u001b[38;5;241m*\u001b[39munits\u001b[38;5;241m.\u001b[39mfs,\n\u001b[1;32m      7\u001b[0m     runtime\u001b[38;5;241m=\u001b[39m\u001b[38;5;241m10\u001b[39m,\n\u001b[1;32m      8\u001b[0m     friction \u001b[38;5;241m=\u001b[39m \u001b[38;5;241m0.01\u001b[39m)\n",
      "\u001b[0;31mNameError\u001b[0m: name 'get_distance' is not defined"
     ]
    }
   ],
   "source": [
    "# Example usage\n",
    "times, distances = get_distance(\n",
    "    molecule=polyisoprene,\n",
    "    temperature_K=300,\n",
    "    atom_indices=[8, 13],  # The atoms you want to track\n",
    "    timestep=0.1*units.fs,\n",
    "    runtime=10,\n",
    "    friction = 0.01)"
   ]
  },
  {
   "cell_type": "markdown",
   "metadata": {
    "cell_id": "00013-7768b772-5604-458f-9d50-8bf300bb5d0a",
    "tags": []
   },
   "source": [
    "Exercise 2: fixing atoms\n",
    "---\n",
    "If you create a dynamics object from an atoms object that has a constraint set, the dynamics will obey that constraint. Run a short dynamics\n",
    "trajectory of polyisoprene with the constraint below, and verify with Ovito that indeed the selected atoms are not moving. "
   ]
  },
  {
   "cell_type": "code",
   "execution_count": 11,
   "metadata": {
    "cell_id": "00010-143b94da-4ae4-49fc-ab32-8d4ce5b8fe5e"
   },
   "outputs": [],
   "source": [
    "# we will need the ability to run molecular dynamics with constraints: the positions of two atoms at the ends of the molecule should be fixed\n",
    "# the following module enables this\n",
    "from ase.constraints import FixAtoms\n",
    "\n",
    "# suppose we have identified that the atoms with indices 27 and 29 are the ones we are going to held fixed, the following\n",
    "# command achieves this:\n",
    "polyisoprene.set_constraint(FixAtoms(indices=[27,29]) )"
   ]
  },
  {
   "cell_type": "markdown",
   "metadata": {
    "cell_id": "00015-9a468db0-5f82-48cb-8528-33b2f37668da",
    "tags": []
   },
   "source": [
    "Exercise 3: stretching\n",
    "----\n",
    "\n",
    "Similarly to the reporting function above, we can create a function that stretches the molecule, by simply moving one of the \"fixed\" atoms by a\n",
    "small amount, thus increasing the distance between our \"fixed\" atoms. Write a function that:\n",
    "- calculates the distance between the atoms,\n",
    "- calculate the new position of one of the fixed atoms, so that it is slightly further away\n",
    "- sets that new position for your fixed atom\n",
    "\n",
    "You can either :\n",
    "\n",
    "1. attach this function to the dynamics object (you can attach multiple functions to a dynamics object), and call it frequently, so the stretching is \"continuous\"\n",
    "1. run the dynamics for a set number of steps, then call your function, and run the dynamics again for a set number of steps, etc. you can either call your stretching\n",
    "function \"by hand\", outside the dynamics run, or attach your function to the dynamics but only have it be called very infrequently. \n",
    "\n",
    "Obviously, if you choose method 1 the stretch amount has to be much much smaller than in method 2 for an equivalent overall stretch rate, because it is being applied much more frequently. \n",
    "Test your setup by running a short dynamics. Initially, make the distance adjustments frequent and large (e.g. 2%) so that you can see that it is being done correctly by inspecting your short trajectory in Ovito. "
   ]
  },
  {
   "cell_type": "markdown",
   "metadata": {
    "cell_id": "00016-f926d390-91d4-43fd-a7d4-1882d444e799",
    "tags": []
   },
   "source": [
    "Main Task\n",
    "---\n",
    "Create a moleculary dynamics simulation in which you stretch the molecule very slowly, and measure the restoring force as a function\n",
    "of displacement (I suggest using method 2 from above). \n",
    "Notes: \n",
    "- You are  interested in the force _between_ the two molecules held fixed (i.e. the force difference) and only in the component of the force along\n",
    "the line connecting the two fixed atoms. \n",
    "- It is enough to record the structure every 100 steps or so, and be prepared to run the simulation for 100,000 steps or more for each fixed distance.\n",
    "- I recommend that you create and record the trajectory first, and the analyse it afterwards, because the main computational cost is creating the trajectory. \n",
    "- When analysing the data, do not include data immediately after each stretch, allow the system to relax towards the equilibrium distribution for a few\n",
    "thousand steps before collecting the force data.\n",
    "- Calculate the autocorrelation of the restoring force value and use it to compute error bars on your measurement"
   ]
  },
  {
   "cell_type": "code",
   "execution_count": null,
   "metadata": {
    "cell_id": "00019-c5d1cfe2-a3fb-4242-8b2c-fe78201e8542",
    "execution_millis": 207,
    "execution_start": 1603639733406,
    "output_cleared": true,
    "source_hash": null
   },
   "outputs": [],
   "source": [
    "# here is a way to read a previously recorded trajectory and computing the force between two atoms along a given direction (the example uses\n",
    "# the single isoprene trajectory from an earlier exercise)\n",
    "f = []\n",
    "for a in ase.io.read(\"isoprene.xyz\", index=\":\"):\n",
    "    f.append((a.get_forces()[8,:]-a.get_forces()[13,:]) @ dru) # dru is the variable holding the unit vector between these atoms, calculated earlier\n",
    "f"
   ]
  },
  {
   "cell_type": "markdown",
   "metadata": {
    "cell_id": "00018-3f83e394-003b-4ad3-8d50-67cb6d93f7dc",
    "tags": []
   },
   "source": [
    "Optional extension\n",
    "---\n",
    "\n",
    "The fact that the restoring force is entropic in origin has implications for the temperature dependence of the restoring force. Repeat the main task for\n",
    "different temperature settings of the Langevin dynamics, and compare the results!"
   ]
  }
 ],
 "metadata": {
  "deepnote_execution_queue": [],
  "deepnote_notebook_id": "13a040b3-a778-49c1-82f6-05fbe5010b93",
  "kernelspec": {
   "display_name": "base",
   "language": "python",
   "name": "python3"
  },
  "language_info": {
   "codemirror_mode": {
    "name": "ipython",
    "version": 3
   },
   "file_extension": ".py",
   "mimetype": "text/x-python",
   "name": "python",
   "nbconvert_exporter": "python",
   "pygments_lexer": "ipython3",
   "version": "3.11.5"
  }
 },
 "nbformat": 4,
 "nbformat_minor": 4
}
